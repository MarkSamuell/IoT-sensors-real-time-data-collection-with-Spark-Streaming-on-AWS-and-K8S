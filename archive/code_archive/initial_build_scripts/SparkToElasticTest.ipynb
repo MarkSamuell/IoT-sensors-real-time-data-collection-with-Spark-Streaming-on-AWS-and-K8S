{
 "cells": [
  {
   "cell_type": "code",
   "execution_count": 15,
   "id": "a1718fb7-37ef-4608-b214-76c6150eff99",
   "metadata": {
    "execution": {
     "iopub.execute_input": "2024-08-03T13:09:36.209448Z",
     "iopub.status.busy": "2024-08-03T13:09:36.209136Z",
     "iopub.status.idle": "2024-08-03T13:09:37.039724Z",
     "shell.execute_reply": "2024-08-03T13:09:37.038671Z",
     "shell.execute_reply.started": "2024-08-03T13:09:36.209417Z"
    },
    "tags": []
   },
   "outputs": [
    {
     "name": "stdout",
     "output_type": "stream",
     "text": [
      "Defaulting to user installation because normal site-packages is not writeable\n",
      "Requirement already satisfied: elasticsearch==7 in /home/emr-notebook/.local/lib/python3.9/site-packages (7.0.0)\n",
      "Requirement already satisfied: urllib3>=1.21.1 in /home/emr-notebook/.local/lib/python3.9/site-packages (from elasticsearch==7) (1.26.15)\n"
     ]
    }
   ],
   "source": [
    "!pip install elasticsearch==7"
   ]
  },
  {
   "cell_type": "code",
   "execution_count": 12,
   "id": "d5658011-8ee9-4e36-9f06-27fc332f549b",
   "metadata": {
    "execution": {
     "iopub.execute_input": "2024-08-03T13:09:03.042710Z",
     "iopub.status.busy": "2024-08-03T13:09:03.042256Z",
     "iopub.status.idle": "2024-08-03T13:09:03.801700Z",
     "shell.execute_reply": "2024-08-03T13:09:03.800819Z",
     "shell.execute_reply.started": "2024-08-03T13:09:03.042665Z"
    },
    "tags": []
   },
   "outputs": [
    {
     "name": "stdout",
     "output_type": "stream",
     "text": [
      "Found existing installation: elasticsearch 8.14.0\n",
      "Uninstalling elasticsearch-8.14.0:\n",
      "  Successfully uninstalled elasticsearch-8.14.0\n"
     ]
    }
   ],
   "source": [
    "!pip uninstall elasticsearch --yes"
   ]
  },
  {
   "cell_type": "code",
   "execution_count": 4,
   "id": "bc52e55f-a8b9-420e-a167-62ce7b73e79e",
   "metadata": {
    "execution": {
     "iopub.execute_input": "2024-08-03T11:58:43.608226Z",
     "iopub.status.busy": "2024-08-03T11:58:43.607918Z",
     "iopub.status.idle": "2024-08-03T11:59:04.741770Z",
     "shell.execute_reply": "2024-08-03T11:59:04.741046Z",
     "shell.execute_reply.started": "2024-08-03T11:58:43.608200Z"
    }
   },
   "outputs": [
    {
     "name": "stdout",
     "output_type": "stream",
     "text": [
      "Defaulting to user installation because normal site-packages is not writeable\n",
      "Collecting pyspark\n",
      "  Downloading pyspark-3.5.1.tar.gz (317.0 MB)\n",
      "     |████████████████████████████████| 317.0 MB 35 kB/s              \n",
      "\u001b[?25h  Preparing metadata (setup.py) ... \u001b[?25ldone\n",
      "\u001b[?25hCollecting py4j==0.10.9.7\n",
      "  Downloading py4j-0.10.9.7-py2.py3-none-any.whl (200 kB)\n",
      "     |████████████████████████████████| 200 kB 43.7 MB/s            \n",
      "\u001b[?25hUsing legacy 'setup.py install' for pyspark, since package 'wheel' is not installed.\n",
      "Installing collected packages: py4j, pyspark\n",
      "    Running setup.py install for pyspark ... \u001b[?25ldone\n",
      "\u001b[?25hSuccessfully installed py4j-0.10.9.7 pyspark-3.5.1\n"
     ]
    }
   ],
   "source": [
    "!pip install pyspark"
   ]
  },
  {
   "cell_type": "code",
   "execution_count": 19,
   "id": "9a5e6611-ca21-481f-92e8-44fbe4ba1fe4",
   "metadata": {
    "execution": {
     "iopub.execute_input": "2024-08-03T13:14:27.399528Z",
     "iopub.status.busy": "2024-08-03T13:14:27.399217Z",
     "iopub.status.idle": "2024-08-03T13:14:27.403150Z",
     "shell.execute_reply": "2024-08-03T13:14:27.402524Z",
     "shell.execute_reply.started": "2024-08-03T13:14:27.399498Z"
    },
    "tags": []
   },
   "outputs": [],
   "source": [
    "from elasticsearch import Elasticsearch, exceptions\n",
    "from pyspark.sql import SparkSession\n",
    "from pyspark.sql.functions import from_json, col\n",
    "from pyspark.sql.types import StructType, StringType, IntegerType, FloatType, MapType"
   ]
  },
  {
   "cell_type": "markdown",
   "id": "c2536519-52d0-403c-bc28-1526c7876366",
   "metadata": {},
   "source": [
    "## Test inserting to Elasticsearch index with Pyspark"
   ]
  },
  {
   "cell_type": "code",
   "execution_count": 23,
   "id": "22cc2da8-5c5f-4711-84dd-8637593f32bb",
   "metadata": {
    "execution": {
     "iopub.execute_input": "2024-08-03T13:17:19.115851Z",
     "iopub.status.busy": "2024-08-03T13:17:19.115494Z",
     "iopub.status.idle": "2024-08-03T13:17:22.941075Z",
     "shell.execute_reply": "2024-08-03T13:17:22.940295Z",
     "shell.execute_reply.started": "2024-08-03T13:17:19.115823Z"
    },
    "tags": []
   },
   "outputs": [
    {
     "name": "stdout",
     "output_type": "stream",
     "text": [
      "Index 'test' does not exist. Creating index...\n",
      "Error creating index: ApiError(406, 'Content-Type header [application/vnd.elasticsearch+json; compatible-with=8] is not supported', 'Content-Type header [application/vnd.elasticsearch+json; compatible-with=8] is not supported')\n"
     ]
    },
    {
     "name": "stderr",
     "output_type": "stream",
     "text": [
      "<ipython-input-23-d55102228da9>:15: DeprecationWarning: Passing transport options in the API method is deprecated. Use 'Elasticsearch.options()' instead.\n",
      "  es_client.indices.create(index=index_name, body={\n"
     ]
    }
   ],
   "source": [
    "# Elasticsearch configuration\n",
    "es_host = \"10.0.3.36\"\n",
    "es_port = 9200  # Ensure this is an integer\n",
    "es_scheme = \"http\"\n",
    "es_index = \"test\"\n",
    "\n",
    "# Create Elasticsearch client\n",
    "es = Elasticsearch([{'host': es_host, 'port': es_port, 'scheme': es_scheme}])\n",
    "\n",
    "# Function to create index if not exists\n",
    "def create_index_if_not_exists(es_client, index_name):\n",
    "    try:\n",
    "        if not es_client.indices.exists(index=index_name):\n",
    "            print(f\"Index '{index_name}' does not exist. Creating index...\")\n",
    "            es_client.indices.create(index=index_name, body={\n",
    "                \"mappings\": {\n",
    "                    \"properties\": {\n",
    "                        \"eventType\": {\"type\": \"text\"},\n",
    "                        \"customerId\": {\"type\": \"text\"},\n",
    "                        \"productId\": {\"type\": \"text\"},\n",
    "                        \"timestamp\": {\"type\": \"date\"},\n",
    "                        \"metadata\": {\"type\": \"object\"},\n",
    "                        \"quantity\": {\"type\": \"integer\"},\n",
    "                        \"totalAmount\": {\"type\": \"float\"},\n",
    "                        \"paymentMethod\": {\"type\": \"text\"}\n",
    "                    }\n",
    "                }\n",
    "            }, headers={\"Content-Type\": \"application/json\"})  # Set correct header\n",
    "        else:\n",
    "            print(f\"Index '{index_name}' already exists.\")\n",
    "    except exceptions.ApiError as e:\n",
    "        print(f\"Error creating index: {e}\")\n",
    "\n",
    "# Create SparkSession\n",
    "spark = SparkSession.builder \\\n",
    "    .appName(\"TestToElasticsearch\") \\\n",
    "    .config(\"spark.jars\", \"s3://aws-emr-studio-381492251123-eu-central-1/elasticsearch-spark-30_2.12-8.0.0.jar\") \\\n",
    "    .getOrCreate()\n",
    "\n",
    "# Create the index if it does not exist\n",
    "create_index_if_not_exists(es, es_index)\n",
    "\n",
    "# Define schema\n",
    "schema = StructType() \\\n",
    "    .add(\"eventType\", StringType()) \\\n",
    "    .add(\"customerId\", StringType()) \\\n",
    "    .add(\"productId\", StringType()) \\\n",
    "    .add(\"timestamp\", StringType()) \\\n",
    "    .add(\"metadata\", MapType(StringType(), StringType())) \\\n",
    "    .add(\"quantity\", IntegerType()) \\\n",
    "    .add(\"totalAmount\", FloatType()) \\\n",
    "    .add(\"paymentMethod\", StringType())\n",
    "\n",
    "# Create test data DataFrame\n",
    "test_data = spark.createDataFrame([{\n",
    "    'eventType': 'purchase',\n",
    "    'customerId': '12345',\n",
    "    'productId': '67890',\n",
    "    'timestamp': '2024-07-27T11:44:45',\n",
    "    'metadata': {'category': 'Books', 'source': 'Advertisement'},\n",
    "    'quantity': 1,\n",
    "    'totalAmount': 15.75,\n",
    "    'paymentMethod': 'Credit Card'\n",
    "}], schema)\n",
    "\n",
    "# Elasticsearch configuration for Spark\n",
    "es_write_conf = {\n",
    "    \"es.nodes\": es_host,\n",
    "    \"es.port\": str(es_port),  # Convert port to string for Spark configuration\n",
    "    \"es.index.auto.create\": \"true\"  # Ensure that Spark does not attempt to auto-create the index\n",
    "}\n",
    "\n",
    "# Write data to Elasticsearch\n",
    "test_data.write \\\n",
    "    .format(\"org.elasticsearch.spark.sql\") \\\n",
    "    .options(**es_write_conf) \\\n",
    "    .mode(\"append\") \\\n",
    "    .save(es_index)"
   ]
  },
  {
   "cell_type": "code",
   "execution_count": 25,
   "id": "80f7be6b-8b1b-40da-b706-b05f401c7ee1",
   "metadata": {
    "execution": {
     "iopub.execute_input": "2024-08-03T13:19:48.655672Z",
     "iopub.status.busy": "2024-08-03T13:19:48.655339Z",
     "iopub.status.idle": "2024-08-03T13:19:48.818061Z",
     "shell.execute_reply": "2024-08-03T13:19:48.817197Z",
     "shell.execute_reply.started": "2024-08-03T13:19:48.655643Z"
    }
   },
   "outputs": [
    {
     "name": "stdout",
     "output_type": "stream",
     "text": [
      "{\n",
      "  \"took\" : 3,\n",
      "  \"timed_out\" : false,\n",
      "  \"_shards\" : {\n",
      "    \"total\" : 1,\n",
      "    \"successful\" : 1,\n",
      "    \"skipped\" : 0,\n",
      "    \"failed\" : 0\n",
      "  },\n",
      "  \"hits\" : {\n",
      "    \"total\" : {\n",
      "      \"value\" : 1,\n",
      "      \"relation\" : \"eq\"\n",
      "    },\n",
      "    \"max_score\" : 1.0,\n",
      "    \"hits\" : [\n",
      "      {\n",
      "        \"_index\" : \"test\",\n",
      "        \"_type\" : \"_doc\",\n",
      "        \"_id\" : \"titjGJEBk8nbZW4mPCn0\",\n",
      "        \"_score\" : 1.0,\n",
      "        \"_source\" : {\n",
      "          \"eventType\" : \"purchase\",\n",
      "          \"customerId\" : \"12345\",\n",
      "          \"productId\" : \"67890\",\n",
      "          \"timestamp\" : \"2024-07-27T11:44:45\",\n",
      "          \"metadata\" : {\n",
      "            \"category\" : \"Books\",\n",
      "            \"source\" : \"Advertisement\"\n",
      "          },\n",
      "          \"quantity\" : 1,\n",
      "          \"totalAmount\" : 15.75,\n",
      "          \"paymentMethod\" : \"Credit Card\"\n",
      "        }\n",
      "      }\n",
      "    ]\n",
      "  }\n",
      "}\n"
     ]
    }
   ],
   "source": [
    "!curl -X GET \"http://10.0.3.36:9200/test/_search?pretty\""
   ]
  },
  {
   "cell_type": "markdown",
   "id": "883957ec-a3e9-4c28-9bda-fc29984db44d",
   "metadata": {
    "tags": []
   },
   "source": [
    "## Reading data from Confluent Kafka Cloud and inserting it to Elasticsearch"
   ]
  },
  {
   "cell_type": "markdown",
   "id": "62818131-d360-410d-891e-79f1f3941bcb",
   "metadata": {
    "execution": {
     "iopub.execute_input": "2024-08-03T13:24:45.794396Z",
     "iopub.status.busy": "2024-08-03T13:24:45.794077Z",
     "iopub.status.idle": "2024-08-03T13:24:45.798272Z",
     "shell.execute_reply": "2024-08-03T13:24:45.797406Z",
     "shell.execute_reply.started": "2024-08-03T13:24:45.794364Z"
    }
   },
   "source": [
    "### Creating Elatsicsearc index using Command line "
   ]
  },
  {
   "cell_type": "markdown",
   "id": "7dc852ef-50cf-4249-a961-b6071ef70c58",
   "metadata": {},
   "source": [
    "curl -X PUT \"http://10.0.3.36:9200/events\" -H 'Content-Type: application/json' -d'\n",
    "{\n",
    "  \"mappings\": {\n",
    "    \"properties\": {\n",
    "      \"eventType\": { \"type\": \"keyword\" },\n",
    "      \"customerId\": { \"type\": \"keyword\" },\n",
    "      \"productId\": { \"type\": \"keyword\" },\n",
    "      \"timestamp\": { \"type\": \"date\" },\n",
    "      \"metadata\": { \n",
    "        \"type\": \"object\",\n",
    "        \"enabled\": true\n",
    "      },\n",
    "      \"quantity\": { \"type\": \"integer\" },\n",
    "      \"totalAmount\": { \"type\": \"float\" },\n",
    "      \"paymentMethod\": { \"type\": \"keyword\" },\n",
    "      \"recommendedProductId\": { \"type\": \"keyword\" }\n",
    "    }\n",
    "  }\n",
    "}'\n"
   ]
  },
  {
   "cell_type": "code",
   "execution_count": null,
   "id": "9e7a5fa0-003c-4a03-aa79-bc527c4a2bd5",
   "metadata": {},
   "outputs": [],
   "source": []
  }
 ],
 "metadata": {
  "kernelspec": {
   "display_name": "Python 3 (ipykernel)",
   "language": "python",
   "name": "python3"
  },
  "language_info": {
   "codemirror_mode": {
    "name": "ipython",
    "version": 3
   },
   "file_extension": ".py",
   "mimetype": "text/x-python",
   "name": "python",
   "nbconvert_exporter": "python",
   "pygments_lexer": "ipython3",
   "version": "3.12.4"
  }
 },
 "nbformat": 4,
 "nbformat_minor": 5
}
