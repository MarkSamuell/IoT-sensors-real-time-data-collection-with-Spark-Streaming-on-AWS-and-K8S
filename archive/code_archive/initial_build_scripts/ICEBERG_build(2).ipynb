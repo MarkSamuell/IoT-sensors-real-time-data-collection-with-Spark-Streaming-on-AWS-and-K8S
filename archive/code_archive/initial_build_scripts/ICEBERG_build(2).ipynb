{
 "cells": [
  {
   "cell_type": "code",
   "execution_count": 1,
   "id": "95e85618-5dd9-4a78-8d6b-0ccd820b20d7",
   "metadata": {
    "execution": {
     "iopub.execute_input": "2024-11-28T14:12:51.568484Z",
     "iopub.status.busy": "2024-11-28T14:12:51.568136Z",
     "iopub.status.idle": "2024-11-28T14:12:51.584131Z",
     "shell.execute_reply": "2024-11-28T14:12:51.583510Z",
     "shell.execute_reply.started": "2024-11-28T14:12:51.568456Z"
    },
    "tags": []
   },
   "outputs": [
    {
     "data": {
      "text/html": [
       "Current session configs: <tt>{'conf': {'spark.sql.catalog.demo': 'org.apache.iceberg.spark.SparkCatalog', 'spark.sql.catalog.demo.catalog-impl': 'org.apache.iceberg.aws.glue.GlueCatalog', 'spark.sql.catalog.demo.warehouse': 's3://elasticmapreduce-uraeusdev/ICEBERG/', 'spark.sql.extensions': 'org.apache.iceberg.spark.extensions.IcebergSparkSessionExtensions'}, 'proxyUser': 'user_mark_girgis_vxlabs_de', 'kind': 'pyspark'}</tt><br>"
      ],
      "text/plain": [
       "<IPython.core.display.HTML object>"
      ]
     },
     "metadata": {},
     "output_type": "display_data"
    },
    {
     "data": {
      "text/html": [
       "No active sessions."
      ],
      "text/plain": [
       "<IPython.core.display.HTML object>"
      ]
     },
     "metadata": {},
     "output_type": "display_data"
    }
   ],
   "source": [
    "%%configure -f \n",
    "{\n",
    "    \"conf\": {\n",
    "        \"spark.sql.catalog.demo\": \"org.apache.iceberg.spark.SparkCatalog\",\n",
    "        \"spark.sql.catalog.demo.catalog-impl\": \"org.apache.iceberg.aws.glue.GlueCatalog\",\n",
    "        \"spark.sql.catalog.demo.warehouse\": \"s3://elasticmapreduce-uraeusdev/ICEBERG/\",\n",
    "        \"spark.sql.extensions\":\"org.apache.iceberg.spark.extensions.IcebergSparkSessionExtensions\"\n",
    "    }\n",
    "}"
   ]
  },
  {
   "cell_type": "code",
   "execution_count": 2,
   "id": "a09fa377-dde2-4235-b6ed-9e6f94dbdd86",
   "metadata": {
    "execution": {
     "iopub.execute_input": "2024-11-28T14:12:52.031397Z",
     "iopub.status.busy": "2024-11-28T14:12:52.031174Z",
     "iopub.status.idle": "2024-11-28T14:13:28.920145Z",
     "shell.execute_reply": "2024-11-28T14:13:28.919369Z",
     "shell.execute_reply.started": "2024-11-28T14:12:52.031373Z"
    },
    "tags": []
   },
   "outputs": [
    {
     "data": {
      "application/vnd.jupyter.widget-view+json": {
       "model_id": "d7f8d4b098c04ffd92032265c78ec14b",
       "version_major": 2,
       "version_minor": 0
      },
      "text/plain": [
       "VBox()"
      ]
     },
     "metadata": {},
     "output_type": "display_data"
    },
    {
     "name": "stdout",
     "output_type": "stream",
     "text": [
      "Starting Spark application\n"
     ]
    },
    {
     "data": {
      "text/html": [
       "<table>\n<tbody><tr><th>ID</th><th>YARN Application ID</th><th>Kind</th><th>State</th><th>Spark UI</th><th>Driver log</th><th>User</th><th>Current session?</th></tr><tr><td>5</td><td>application_1732781624275_0034</td><td>pyspark</td><td>idle</td><td><a target=\"_blank\" href=\"http://ip-10-18-1-10.eu-central-1.compute.internal:20888/proxy/application_1732781624275_0034/\" class=\"emr-proxy-link j-11XGXEIOU1SFB application_1732781624275_0034\" emr-resource=\"j-11XGXEIOU1SFB\n\" application-id=\"application_1732781624275_0034\">Link</a></td><td><a target=\"_blank\" href=\"http://ip-10-18-1-25.eu-central-1.compute.internal:8042/node/containerlogs/container_1732781624275_0034_01_000001/livy\">Link</a></td><td>None</td><td>✔</td></tr></tbody></table>"
      ],
      "text/plain": [
       "<IPython.core.display.HTML object>"
      ]
     },
     "metadata": {},
     "output_type": "display_data"
    },
    {
     "data": {
      "application/vnd.jupyter.widget-view+json": {
       "model_id": "",
       "version_major": 2,
       "version_minor": 0
      },
      "text/plain": [
       "FloatProgress(value=0.0, bar_style='info', description='Progress:', layout=Layout(height='25px', width='50%'),…"
      ]
     },
     "metadata": {},
     "output_type": "display_data"
    },
    {
     "name": "stdout",
     "output_type": "stream",
     "text": [
      "SparkSession available as 'spark'.\n"
     ]
    },
    {
     "data": {
      "application/vnd.jupyter.widget-view+json": {
       "model_id": "",
       "version_major": 2,
       "version_minor": 0
      },
      "text/plain": [
       "FloatProgress(value=0.0, bar_style='info', description='Progress:', layout=Layout(height='25px', width='50%'),…"
      ]
     },
     "metadata": {},
     "output_type": "display_data"
    },
    {
     "name": "stdout",
     "output_type": "stream",
     "text": [
      "Current Iceberg Configurations:\n",
      "spark.sql.catalog.demo: org.apache.iceberg.spark.SparkCatalog\n",
      "spark.sql.catalog.demo.catalog-impl: org.apache.iceberg.aws.glue.GlueCatalog\n",
      "spark.sql.catalog.demo.warehouse: s3://elasticmapreduce-uraeusdev/ICEBERG/\n",
      "spark.sql.extensions: org.apache.iceberg.spark.extensions.IcebergSparkSessionExtensions\n",
      "\n",
      "Trying alternate table listing syntax:\n",
      "+---------+---------+-----------+\n",
      "|namespace|tableName|isTemporary|\n",
      "+---------+---------+-----------+\n",
      "+---------+---------+-----------+"
     ]
    }
   ],
   "source": [
    "# Print current Iceberg configurations\n",
    "configs = [\n",
    "    \"spark.sql.catalog.demo\",\n",
    "    \"spark.sql.catalog.demo.catalog-impl\",\n",
    "    \"spark.sql.catalog.demo.warehouse\",\n",
    "    \"spark.sql.extensions\"\n",
    "]\n",
    "\n",
    "print(\"Current Iceberg Configurations:\")\n",
    "for config in configs:\n",
    "    print(f\"{config}: {spark.conf.get(config)}\")\n",
    "\n",
    "# Try alternate syntax for showing tables\n",
    "print(\"\\nTrying alternate table listing syntax:\")\n",
    "tables_df = spark.sql(\"SHOW TABLES\")\n",
    "tables_df.show()"
   ]
  },
  {
   "cell_type": "code",
   "execution_count": 5,
   "id": "eece297b-fd65-4896-963d-4a323cfb85d0",
   "metadata": {
    "execution": {
     "iopub.execute_input": "2024-11-28T14:16:38.492965Z",
     "iopub.status.busy": "2024-11-28T14:16:38.492739Z",
     "iopub.status.idle": "2024-11-28T14:16:43.791691Z",
     "shell.execute_reply": "2024-11-28T14:16:43.790934Z",
     "shell.execute_reply.started": "2024-11-28T14:16:38.492941Z"
    },
    "tags": []
   },
   "outputs": [
    {
     "data": {
      "application/vnd.jupyter.widget-view+json": {
       "model_id": "d3f36daded8c488badbeaa623c53dbc7",
       "version_major": 2,
       "version_minor": 0
      },
      "text/plain": [
       "VBox()"
      ]
     },
     "metadata": {},
     "output_type": "display_data"
    },
    {
     "data": {
      "application/vnd.jupyter.widget-view+json": {
       "model_id": "",
       "version_major": 2,
       "version_minor": 0
      },
      "text/plain": [
       "FloatProgress(value=0.0, bar_style='info', description='Progress:', layout=Layout(height='25px', width='50%'),…"
      ]
     },
     "metadata": {},
     "output_type": "display_data"
    },
    {
     "name": "stdout",
     "output_type": "stream",
     "text": [
      "\n",
      "Creating database...\n",
      "\n",
      "Creating event_logs table...\n",
      "\n",
      "Creating security_events table...\n",
      "\n",
      "Verifying tables:\n",
      "+---------+--------------------+-----------+\n",
      "|namespace|           tableName|isTemporary|\n",
      "+---------+--------------------+-----------+\n",
      "|uraeus_db|          event_logs|      false|\n",
      "|uraeus_db|     event_logs_aggs|      false|\n",
      "|uraeus_db|     security_events|      false|\n",
      "|uraeus_db|security_events_aggs|      false|\n",
      "+---------+--------------------+-----------+\n",
      "\n",
      "\n",
      "Verifying table locations:\n",
      "+---------------------------+---------+-------+\n",
      "|col_name                   |data_type|comment|\n",
      "+---------------------------+---------+-------+\n",
      "|Log_ID                     |string   |null   |\n",
      "|Timestamp                  |timestamp|null   |\n",
      "|Signal_Name                |string   |null   |\n",
      "|Signal_Value               |string   |null   |\n",
      "|Signal_Unit                |string   |null   |\n",
      "|VIN                        |string   |null   |\n",
      "|Vehicle_Model              |string   |null   |\n",
      "|Fleet_Name                 |string   |null   |\n",
      "|Campaign_ID                |string   |null   |\n",
      "|Component                  |string   |null   |\n",
      "|Datatype                   |string   |null   |\n",
      "|Min                        |double   |null   |\n",
      "|Max                        |double   |null   |\n",
      "|Signal_Fully_Qualified_Name|string   |null   |\n",
      "|year                       |int      |null   |\n",
      "|month                      |int      |null   |\n",
      "|day                        |int      |null   |\n",
      "|_inserted_timestamp        |timestamp|null   |\n",
      "|# Partition Information    |         |       |\n",
      "|# col_name                 |data_type|comment|\n",
      "+---------------------------+---------+-------+\n",
      "only showing top 20 rows\n",
      "\n",
      "+-----------------------+---------+-------+\n",
      "|col_name               |data_type|comment|\n",
      "+-----------------------+---------+-------+\n",
      "|Alert_ID               |string   |null   |\n",
      "|ID                     |string   |null   |\n",
      "|Timestamp              |timestamp|null   |\n",
      "|VIN                    |string   |null   |\n",
      "|Severity               |string   |null   |\n",
      "|SEV_Msg                |string   |null   |\n",
      "|Origin                 |string   |null   |\n",
      "|NetworkType            |string   |null   |\n",
      "|NetworkID              |string   |null   |\n",
      "|Vehicle_Model          |string   |null   |\n",
      "|Fleet_Name             |string   |null   |\n",
      "|SEV_Name               |string   |null   |\n",
      "|Rule_ID                |string   |null   |\n",
      "|Description            |string   |null   |\n",
      "|SEV_Status             |string   |null   |\n",
      "|year                   |int      |null   |\n",
      "|month                  |int      |null   |\n",
      "|day                    |int      |null   |\n",
      "|_inserted_timestamp    |timestamp|null   |\n",
      "|# Partition Information|         |       |\n",
      "+-----------------------+---------+-------+\n",
      "only showing top 20 rows\n",
      "\n",
      "\n",
      "Tables created successfully!"
     ]
    }
   ],
   "source": [
    "def create_tables():\n",
    "    \"\"\"Create tables in Glue catalog using demo namespace\"\"\"\n",
    "    try:\n",
    "        # Create database if not exists\n",
    "        print(\"\\nCreating database...\")\n",
    "        spark.sql(\"CREATE DATABASE IF NOT EXISTS demo.uraeus_db\")\n",
    "\n",
    "        # Create event_logs table\n",
    "        print(\"\\nCreating event_logs table...\")\n",
    "        spark.sql(\"\"\"\n",
    "        CREATE TABLE IF NOT EXISTS demo.uraeus_db.event_logs (\n",
    "            Log_ID string,\n",
    "            Timestamp timestamp,\n",
    "            Signal_Name string,\n",
    "            Signal_Value string,\n",
    "            Signal_Unit string,\n",
    "            VIN string,\n",
    "            Vehicle_Model string,\n",
    "            Fleet_Name string,\n",
    "            Campaign_ID string,\n",
    "            Component string,\n",
    "            Datatype string,\n",
    "            Min double,\n",
    "            Max double,\n",
    "            Signal_Fully_Qualified_Name string,\n",
    "            year int,\n",
    "            month int, \n",
    "            day int,\n",
    "            _inserted_timestamp timestamp\n",
    "        )\n",
    "        USING iceberg\n",
    "        PARTITIONED BY (year, month, day)\n",
    "        LOCATION 's3://elasticmapreduce-uraeusdev/ICEBERG/uraeus_db/event_logs'\n",
    "        TBLPROPERTIES (\n",
    "            'write.format.default' = 'parquet',\n",
    "            'write.parquet.compression-codec' = 'zstd',\n",
    "            'write.target-file-size-bytes' = '536870912',\n",
    "            'format-version' = '2'\n",
    "        )\n",
    "        \"\"\")\n",
    "        \n",
    "        # Create security_events table\n",
    "        print(\"\\nCreating security_events table...\")\n",
    "        spark.sql(\"\"\"\n",
    "        CREATE TABLE IF NOT EXISTS demo.uraeus_db.security_events (\n",
    "            Alert_ID string,\n",
    "            ID string,\n",
    "            Timestamp timestamp,\n",
    "            VIN string,\n",
    "            Severity string,\n",
    "            SEV_Msg string,\n",
    "            Origin string,\n",
    "            NetworkType string,\n",
    "            NetworkID string,\n",
    "            Vehicle_Model string,\n",
    "            Fleet_Name string,\n",
    "            SEV_Name string,\n",
    "            Rule_ID string,\n",
    "            Description string,\n",
    "            SEV_Status string,\n",
    "            year int,\n",
    "            month int,\n",
    "            day int,\n",
    "            _inserted_timestamp timestamp\n",
    "        )\n",
    "        USING iceberg\n",
    "        PARTITIONED BY (year, month, day, Severity)\n",
    "        LOCATION 's3://elasticmapreduce-uraeusdev/ICEBERG/uraeus_db/security_events'\n",
    "        TBLPROPERTIES (\n",
    "            'write.format.default' = 'parquet',\n",
    "            'write.parquet.compression-codec' = 'zstd',\n",
    "            'write.target-file-size-bytes' = '536870912',\n",
    "            'format-version' = '2'\n",
    "        )\n",
    "        \"\"\")\n",
    "\n",
    "        # Create event logs aggregations table\n",
    "        spark.sql(\"\"\"\n",
    "        CREATE TABLE IF NOT EXISTS demo.uraeus_db.event_logs_aggs (\n",
    "            start timestamp,\n",
    "            end timestamp,\n",
    "            VIN string,\n",
    "            Signal_ID string,\n",
    "            Signal_Name string,\n",
    "            count long,\n",
    "            Fleet_Name string,\n",
    "            year int,\n",
    "            month int,\n",
    "            day int,\n",
    "            _inserted_timestamp timestamp\n",
    "        )\n",
    "        USING iceberg\n",
    "        PARTITIONED BY (year, month, day)\n",
    "        LOCATION 's3://elasticmapreduce-uraeusdev/ICEBERG/uraeus_db/event_logs_aggs'\n",
    "        TBLPROPERTIES (\n",
    "            'write.format.default' = 'parquet',\n",
    "            'write.parquet.compression-codec' = 'zstd',\n",
    "            'format-version' = '2'\n",
    "        )\n",
    "        \"\"\")\n",
    "\n",
    "        # Create security events aggregations table\n",
    "        spark.sql(\"\"\"\n",
    "        CREATE TABLE IF NOT EXISTS demo.uraeus_db.security_events_aggs (\n",
    "            start timestamp,\n",
    "            end timestamp,\n",
    "            ID string,\n",
    "            SEV_Name string,\n",
    "            VIN string,\n",
    "            Severity string,\n",
    "            Fleet string,\n",
    "            count long,\n",
    "            year int,\n",
    "            month int,\n",
    "            day int,\n",
    "            _inserted_timestamp timestamp\n",
    "        )\n",
    "        USING iceberg\n",
    "        PARTITIONED BY (year, month, day, Severity)\n",
    "        LOCATION 's3://elasticmapreduce-uraeusdev/ICEBERG/uraeus_db/security_events_aggs'\n",
    "        TBLPROPERTIES (\n",
    "            'write.format.default' = 'parquet',\n",
    "            'write.parquet.compression-codec' = 'zstd',\n",
    "            'format-version' = '2'\n",
    "        )\n",
    "        \"\"\")\n",
    "\n",
    "        # Verify creation\n",
    "        print(\"\\nVerifying tables:\")\n",
    "        spark.sql(\"SHOW TABLES IN demo.uraeus_db\").show()\n",
    "        \n",
    "        print(\"\\nVerifying table locations:\")\n",
    "        spark.sql(\"DESCRIBE TABLE EXTENDED demo.uraeus_db.event_logs\").show(truncate=False)\n",
    "        spark.sql(\"DESCRIBE TABLE EXTENDED demo.uraeus_db.security_events\").show(truncate=False)\n",
    "\n",
    "    except Exception as e:\n",
    "        print(f\"Error creating tables: {str(e)}\")\n",
    "        raise\n",
    "\n",
    "# Run the creation script\n",
    "try:\n",
    "    create_tables()\n",
    "    print(\"\\nTables created successfully!\")\n",
    "except Exception as e:\n",
    "    print(f\"\\nError during table creation: {str(e)}\")\n",
    "    raise"
   ]
  },
  {
   "cell_type": "code",
   "execution_count": 4,
   "id": "269cd547-779b-4879-9a2a-86a438781e60",
   "metadata": {
    "execution": {
     "iopub.execute_input": "2024-11-28T14:16:07.434976Z",
     "iopub.status.busy": "2024-11-28T14:16:07.434744Z",
     "iopub.status.idle": "2024-11-28T14:16:18.756886Z",
     "shell.execute_reply": "2024-11-28T14:16:18.756293Z",
     "shell.execute_reply.started": "2024-11-28T14:16:07.434949Z"
    },
    "tags": []
   },
   "outputs": [
    {
     "data": {
      "application/vnd.jupyter.widget-view+json": {
       "model_id": "459f381034004f83a1a07b307b63e0ed",
       "version_major": 2,
       "version_minor": 0
      },
      "text/plain": [
       "VBox()"
      ]
     },
     "metadata": {},
     "output_type": "display_data"
    },
    {
     "data": {
      "application/vnd.jupyter.widget-view+json": {
       "model_id": "",
       "version_major": 2,
       "version_minor": 0
      },
      "text/plain": [
       "FloatProgress(value=0.0, bar_style='info', description='Progress:', layout=Layout(height='25px', width='50%'),…"
      ]
     },
     "metadata": {},
     "output_type": "display_data"
    },
    {
     "name": "stdout",
     "output_type": "stream",
     "text": [
      "+------+-------------------+------------------+------------+-----------+-----------------+-------------+-----------+-------------+---------------+------------------+-----+-----+---------------------------+----+-----+---+--------------------+\n",
      "|Log_ID|          Timestamp|       Signal_Name|Signal_Value|Signal_Unit|              VIN|Vehicle_Model| Fleet_Name|  Campaign_ID|      Component|          Datatype|  Min|  Max|Signal_Fully_Qualified_Name|year|month|day| _inserted_timestamp|\n",
      "+------+-------------------+------------------+------------+-----------+-----------------+-------------+-----------+-------------+---------------+------------------+-----+-----+---------------------------+----+-----+---+--------------------+\n",
      "|  null|2024-11-28 13:19:55|          CPU_Load|          33|          %|2EFSWQ2O7JR521017|      DEFAULT|Fleet Bravo|Campaign_ID_3|            ECU|Unsigned Short Int|  0.0|100.0|       Vehicle.Cabin.Inf...|2024|   11| 28|2024-11-28 13:20:...|\n",
      "|  null|2024-11-28 13:19:55|              null|      passed|       null|2EFSWQ2O7JR521017|      DEFAULT|Fleet Bravo|Campaign_ID_3|           null|         Short Int| null| null|                       null|2024|   11| 28|2024-11-28 13:20:...|\n",
      "|  null|2024-11-28 13:19:55|              null|      failed|       null|2EFSWQ2O7JR521017|      DEFAULT|Fleet Bravo|Campaign_ID_3|           null|         Short Int| null| null|                       null|2024|   11| 28|2024-11-28 13:20:...|\n",
      "|  null|2024-11-28 13:19:55|     Vehicle_Speed|         155|       km/h|2EFSWQ2O7JR521017|      DEFAULT|Fleet Bravo|Campaign_ID_3|    Speedometer|Unsigned Short Int|  0.0|300.0|       Vehicle.Powertrai...|2024|   11| 28|2024-11-28 13:20:...|\n",
      "|  null|2024-11-28 13:19:55|              null|      passed|       null|2EFSWQ2O7JR521017|      DEFAULT|Fleet Bravo|Campaign_ID_3|           null|         Short Int| null| null|                       null|2024|   11| 28|2024-11-28 13:20:...|\n",
      "|  null|2024-11-28 13:19:55|              null|      failed|       null|2EFSWQ2O7JR521017|      DEFAULT|Fleet Bravo|Campaign_ID_3|           null|         Short Int| null| null|                       null|2024|   11| 28|2024-11-28 13:20:...|\n",
      "|  null|2024-11-28 13:19:55|              null|      passed|       null|2EFSWQ2O7JR521017|      DEFAULT|Fleet Bravo|Campaign_ID_3|           null|         Short Int| null| null|                       null|2024|   11| 28|2024-11-28 13:20:...|\n",
      "|  null|2024-11-28 13:19:55|          CPU_Load|          93|          %|2EFSWQ2O7JR521017|      DEFAULT|Fleet Bravo|Campaign_ID_3|            ECU|Unsigned Short Int|  0.0|100.0|       Vehicle.Cabin.Inf...|2024|   11| 28|2024-11-28 13:20:...|\n",
      "|  null|2024-11-28 13:19:55|              null|      failed|       null|2EFSWQ2O7JR521017|      DEFAULT|Fleet Bravo|Campaign_ID_3|           null|         Short Int| null| null|                       null|2024|   11| 28|2024-11-28 13:20:...|\n",
      "|  null|2024-11-28 13:19:55|Global_Temperature|          23|    Celsius|2EFSWQ2O7JR521017|      DEFAULT|Fleet Bravo|Campaign_ID_3|Climate Control|            Double|-50.0| 80.0|       Vehicle.Cabin.HVA...|2024|   11| 28|2024-11-28 13:20:...|\n",
      "|  null|2024-11-28 13:19:55|              null|      passed|       null|2EFSWQ2O7JR521017|      DEFAULT|Fleet Bravo|Campaign_ID_3|           null|         Short Int| null| null|                       null|2024|   11| 28|2024-11-28 13:20:...|\n",
      "|  null|2024-11-28 13:19:55|              null|      passed|       null|2EFSWQ2O7JR521017|      DEFAULT|Fleet Bravo|Campaign_ID_3|           null|         Short Int| null| null|                       null|2024|   11| 28|2024-11-28 13:20:...|\n",
      "|  null|2024-11-28 13:19:55|          CPU_Load|          67|          %|2EFSWQ2O7JR521017|      DEFAULT|Fleet Bravo|Campaign_ID_3|            ECU|Unsigned Short Int|  0.0|100.0|       Vehicle.Cabin.Inf...|2024|   11| 28|2024-11-28 13:20:...|\n",
      "|  null|2024-11-28 13:19:55|              null|      failed|       null|2EFSWQ2O7JR521017|      DEFAULT|Fleet Bravo|Campaign_ID_3|           null|         Short Int| null| null|                       null|2024|   11| 28|2024-11-28 13:20:...|\n",
      "|  null|2024-11-28 13:19:55|              null|      failed|       null|2EFSWQ2O7JR521017|      DEFAULT|Fleet Bravo|Campaign_ID_3|           null|         Short Int| null| null|                       null|2024|   11| 28|2024-11-28 13:20:...|\n",
      "|  null|2024-11-28 13:19:55|          CPU_Load|          61|          %|2EFSWQ2O7JR521017|      DEFAULT|Fleet Bravo|Campaign_ID_3|            ECU|Unsigned Short Int|  0.0|100.0|       Vehicle.Cabin.Inf...|2024|   11| 28|2024-11-28 13:20:...|\n",
      "|  null|2024-11-28 13:19:55|              null|      failed|       null|2EFSWQ2O7JR521017|      DEFAULT|Fleet Bravo|Campaign_ID_3|           null|         Short Int| null| null|                       null|2024|   11| 28|2024-11-28 13:20:...|\n",
      "|  null|2024-11-28 13:19:55|          CPU_Load|          11|          %|2EFSWQ2O7JR521017|      DEFAULT|Fleet Bravo|Campaign_ID_3|            ECU|Unsigned Short Int|  0.0|100.0|       Vehicle.Cabin.Inf...|2024|   11| 28|2024-11-28 13:20:...|\n",
      "|  null|2024-11-28 13:19:55|          CPU_Load|          46|          %|2EFSWQ2O7JR521017|      DEFAULT|Fleet Bravo|Campaign_ID_3|            ECU|Unsigned Short Int|  0.0|100.0|       Vehicle.Cabin.Inf...|2024|   11| 28|2024-11-28 13:20:...|\n",
      "|  null|2024-11-28 13:19:55|              null|      passed|       null|2EFSWQ2O7JR521017|      DEFAULT|Fleet Bravo|Campaign_ID_3|           null|         Short Int| null| null|                       null|2024|   11| 28|2024-11-28 13:20:...|\n",
      "+------+-------------------+------------------+------------+-----------+-----------------+-------------+-----------+-------------+---------------+------------------+-----+-----+---------------------------+----+-----+---+--------------------+\n",
      "only showing top 20 rows\n",
      "\n",
      "+--------------------+-------+-------------------+-----------------+--------+--------------------+----------------+-----------+---------+-------------+-------------+----------------+-------+--------------------+----------+----+-----+---+--------------------+\n",
      "|            Alert_ID|     ID|          Timestamp|              VIN|Severity|             SEV_Msg|          Origin|NetworkType|NetworkID|Vehicle_Model|   Fleet_Name|        SEV_Name|Rule_ID|         Description|SEV_Status|year|month|day| _inserted_timestamp|\n",
      "+--------------------+-------+-------------------+-----------------+--------+--------------------+----------------+-----------+---------+-------------+-------------+----------------+-------+--------------------+----------+----+-----+---+--------------------+\n",
      "|003-LFXIQEKO7RT74...|    003|2024-11-21 09:25:49|LFXIQEKO7RT744988|    High|Bus Flood Attack ...|       Motor ECU|        CAN|       90|      DEFAULT|  Fleet Bravo|Bus Flood Attack|    003|Very simple denia...| unhandled|2024|   11| 21|2024-11-28 11:19:...|\n",
      "|004-MCRA88PC16576...|    004|2024-11-21 11:22:13|MCRA88PC165768280|    High|        IdsM SEV_MSG|      Brakes ECU|   Ethernet|       65|      DEFAULT|  Fleet Alpha|        IdsM Sev|    004|IdsM Security Event.| unhandled|2024|   11| 21|2024-11-28 11:19:...|\n",
      "|001-2FZEQW3DZHL93...|    001|2024-11-21 02:54:05|2FZEQW3DZHL931338|    High|Invalid Can ID Me...|          AC ECU|        CAN|       90|      DEFAULT|Fleet Charlie|  Invalid CAN ID|    001|Invalid Can Messa...| unhandled|2024|   11| 21|2024-11-28 11:19:...|\n",
      "|005-MCRA88PC16576...|005-108|2024-11-21 20:43:52|MCRA88PC165768280|    High|Negative Response...|       Motor ECU|   Ethernet|       90|      DEFAULT|  Fleet Alpha|       NRC-Speed|    005| NRC Security Event.| unhandled|2024|   11| 21|2024-11-28 11:19:...|\n",
      "|004-7AU7S32NCV700...|    004|2024-11-21 20:25:05|7AU7S32NCV7009385|    High|        IdsM SEV_MSG|Transmission ECU|        CAN|       12|      DEFAULT|Fleet Charlie|        IdsM Sev|    004|IdsM Security Event.| unhandled|2024|   11| 21|2024-11-28 11:19:...|\n",
      "|003-FHCS6KW7X8G26...|    003|2024-11-21 01:48:03|FHCS6KW7X8G265532|    High|Bus Flood Attack ...|      Brakes ECU|        CAN|       12|      DEFAULT|  Fleet Delta|Bus Flood Attack|    003|Very simple denia...| unhandled|2024|   11| 21|2024-11-28 11:19:...|\n",
      "|003-2EFSWQ2O7JR52...|    003|2024-11-21 06:31:32|2EFSWQ2O7JR521017|    High|Bus Flood Attack ...|      Brakes ECU|   Ethernet|       90|      DEFAULT|  Fleet Bravo|Bus Flood Attack|    003|Very simple denia...| unhandled|2024|   11| 21|2024-11-28 11:19:...|\n",
      "|002-3NY94IFO1DX05...|    002|2024-11-21 19:44:44|3NY94IFO1DX053398|    High|High CPU Usage Me...|       Motor ECU|   Ethernet|       78|      DEFAULT|  Fleet Bravo|       CPU Usage|    002|Uraeus hosting EC...| unhandled|2024|   11| 21|2024-11-28 11:19:...|\n",
      "|002-EMN18GCYN4209...|    002|2024-11-21 00:22:00|EMN18GCYN42094594|    High|High CPU Usage Me...|      Brakes ECU|   Ethernet|       65|      DEFAULT|   Fleet Echo|       CPU Usage|    002|Uraeus hosting EC...| unhandled|2024|   11| 21|2024-11-28 11:19:...|\n",
      "|002-MYDVSEUZTRE52...|    002|2024-11-21 16:59:22|MYDVSEUZTRE522431|    High|High CPU Usage Me...|       Motor ECU|   Ethernet|       90|      DEFAULT|  Fleet Alpha|       CPU Usage|    002|Uraeus hosting EC...| unhandled|2024|   11| 21|2024-11-28 11:19:...|\n",
      "|004-KVDNY5XB9K951...|    004|2024-11-21 17:22:51|KVDNY5XB9K9517682|    High|        IdsM SEV_MSG|       Motor ECU|        CAN|       65|      DEFAULT|Fleet Charlie|        IdsM Sev|    004|IdsM Security Event.| unhandled|2024|   11| 21|2024-11-28 11:19:...|\n",
      "|004-PEA3LYMA5NT37...|    004|2024-11-21 22:26:47|PEA3LYMA5NT374320|    High|        IdsM SEV_MSG|          AC ECU|        CAN|       36|      DEFAULT|  Fleet Alpha|        IdsM Sev|    004|IdsM Security Event.| unhandled|2024|   11| 21|2024-11-28 11:19:...|\n",
      "|005-KVDNY5XB9K951...| 005-34|2024-11-21 22:32:52|KVDNY5XB9K9517682|    High|Negative Response...|      Brakes ECU|   Ethernet|       78|      DEFAULT|Fleet Charlie|       NRC-Speed|    005| NRC Security Event.| unhandled|2024|   11| 21|2024-11-28 11:19:...|\n",
      "|004-BUCX5JQ3T8991...|    004|2024-11-21 01:05:12|BUCX5JQ3T89910721|    High|        IdsM SEV_MSG|      Brakes ECU|        CAN|       65|      DEFAULT|  Fleet Alpha|        IdsM Sev|    004|IdsM Security Event.| unhandled|2024|   11| 21|2024-11-28 11:19:...|\n",
      "|003-3NY94IFO1DX05...|    003|2024-11-21 02:41:05|3NY94IFO1DX053398|    High|Bus Flood Attack ...|Transmission ECU|        CAN|       12|      DEFAULT|  Fleet Bravo|Bus Flood Attack|    003|Very simple denia...| unhandled|2024|   11| 21|2024-11-28 11:19:...|\n",
      "|002-FHCS6KW7X8G26...|    002|2024-11-21 15:48:01|FHCS6KW7X8G265532|    High|High CPU Usage Me...|      Brakes ECU|        CAN|       78|      DEFAULT|  Fleet Delta|       CPU Usage|    002|Uraeus hosting EC...| unhandled|2024|   11| 21|2024-11-28 11:19:...|\n",
      "|001-JBXO5FAV1BJ65...|    001|2024-11-21 00:14:31|JBXO5FAV1BJ655045|    High|Invalid Can ID Me...|       Motor ECU|        CAN|       90|      DEFAULT|Fleet Charlie|  Invalid CAN ID|    001|Invalid Can Messa...| unhandled|2024|   11| 21|2024-11-28 11:19:...|\n",
      "|003-BUCX5JQ3T8991...|    003|2024-11-21 16:11:24|BUCX5JQ3T89910721|    High|Bus Flood Attack ...|          AC ECU|        CAN|       65|      DEFAULT|  Fleet Alpha|Bus Flood Attack|    003|Very simple denia...| unhandled|2024|   11| 21|2024-11-28 11:19:...|\n",
      "|002-MCRA88PC16576...|    002|2024-11-21 20:34:42|MCRA88PC165768280|    High|High CPU Usage Me...|          AC ECU|        CAN|       65|      DEFAULT|  Fleet Alpha|       CPU Usage|    002|Uraeus hosting EC...| unhandled|2024|   11| 21|2024-11-28 11:19:...|\n",
      "|004-3NY94IFO1DX05...|    004|2024-11-21 22:29:11|3NY94IFO1DX053398|    High|        IdsM SEV_MSG|       Motor ECU|        CAN|       90|      DEFAULT|  Fleet Bravo|        IdsM Sev|    004|IdsM Security Event.| unhandled|2024|   11| 21|2024-11-28 11:19:...|\n",
      "+--------------------+-------+-------------------+-----------------+--------+--------------------+----------------+-----------+---------+-------------+-------------+----------------+-------+--------------------+----------+----+-----+---+--------------------+\n",
      "only showing top 20 rows"
     ]
    }
   ],
   "source": [
    "spark.sql(\"SELECT * FROM demo.uraeus_db.event_logs\").show()\n",
    "spark.sql(\"SELECT * FROM demo.uraeus_db.security_events\").show()"
   ]
  },
  {
   "cell_type": "code",
   "execution_count": null,
   "id": "e202a720-c752-41f0-bded-279ba2f27bcb",
   "metadata": {},
   "outputs": [],
   "source": []
  }
 ],
 "metadata": {
  "kernelspec": {
   "display_name": "PySpark",
   "language": "python",
   "name": "pysparkkernel"
  },
  "language_info": {
   "codemirror_mode": {
    "name": "python",
    "version": 3
   },
   "file_extension": ".py",
   "mimetype": "text/x-python",
   "name": "pyspark",
   "pygments_lexer": "python3"
  }
 },
 "nbformat": 4,
 "nbformat_minor": 5
}
