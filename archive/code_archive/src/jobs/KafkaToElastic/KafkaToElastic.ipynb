{
 "cells": [
  {
   "cell_type": "code",
   "execution_count": 1,
   "id": "468d452f-3c7f-4463-b423-7fedf2069d97",
   "metadata": {
    "execution": {
     "iopub.execute_input": "2024-08-14T12:39:09.415076Z",
     "iopub.status.busy": "2024-08-14T12:39:09.414765Z",
     "iopub.status.idle": "2024-08-14T12:39:44.298323Z",
     "shell.execute_reply": "2024-08-14T12:39:44.297625Z",
     "shell.execute_reply.started": "2024-08-14T12:39:09.415046Z"
    },
    "tags": []
   },
   "outputs": [
    {
     "data": {
      "application/vnd.jupyter.widget-view+json": {
       "model_id": "666bb3847123461483ddae40d040f966",
       "version_major": 2,
       "version_minor": 0
      },
      "text/plain": [
       "VBox()"
      ]
     },
     "metadata": {},
     "output_type": "display_data"
    },
    {
     "name": "stdout",
     "output_type": "stream",
     "text": [
      "Starting Spark application\n"
     ]
    },
    {
     "data": {
      "text/html": [
       "<table>\n<tbody><tr><th>ID</th><th>YARN Application ID</th><th>Kind</th><th>State</th><th>Spark UI</th><th>Driver log</th><th>User</th><th>Current session?</th></tr><tr><td>2</td><td>application_1723637767679_0003</td><td>pyspark</td><td>idle</td><td><a target=\"_blank\" href=\"http://ip-10-0-3-118.eu-central-1.compute.internal:20888/proxy/application_1723637767679_0003/\" class=\"emr-proxy-link j-2AKIZY2DOBGVF application_1723637767679_0003\" emr-resource=\"j-2AKIZY2DOBGVF\n\" application-id=\"application_1723637767679_0003\">Link</a></td><td><a target=\"_blank\" href=\"http://ip-10-0-3-212.eu-central-1.compute.internal:8042/node/containerlogs/container_1723637767679_0003_01_000001/livy\">Link</a></td><td>None</td><td>✔</td></tr></tbody></table>"
      ],
      "text/plain": [
       "<IPython.core.display.HTML object>"
      ]
     },
     "metadata": {},
     "output_type": "display_data"
    },
    {
     "data": {
      "application/vnd.jupyter.widget-view+json": {
       "model_id": "",
       "version_major": 2,
       "version_minor": 0
      },
      "text/plain": [
       "FloatProgress(value=0.0, bar_style='info', description='Progress:', layout=Layout(height='25px', width='50%'),…"
      ]
     },
     "metadata": {},
     "output_type": "display_data"
    },
    {
     "name": "stdout",
     "output_type": "stream",
     "text": [
      "SparkSession available as 'spark'.\n"
     ]
    },
    {
     "data": {
      "application/vnd.jupyter.widget-view+json": {
       "model_id": "",
       "version_major": 2,
       "version_minor": 0
      },
      "text/plain": [
       "FloatProgress(value=0.0, bar_style='info', description='Progress:', layout=Layout(height='25px', width='50%'),…"
      ]
     },
     "metadata": {},
     "output_type": "display_data"
    }
   ],
   "source": [
    "import time\n",
    "from pyspark.sql import SparkSession\n",
    "from pyspark.sql.functions import from_json, col\n",
    "from pyspark.sql.types import StructType, StructField, StringType, IntegerType\n",
    "from elasticsearch import Elasticsearch, exceptions"
   ]
  },
  {
   "cell_type": "code",
   "execution_count": 2,
   "id": "6eedf045-3ad8-4835-8061-1c6be8a32234",
   "metadata": {
    "execution": {
     "iopub.execute_input": "2024-08-14T12:39:44.299653Z",
     "iopub.status.busy": "2024-08-14T12:39:44.299474Z",
     "iopub.status.idle": "2024-08-14T12:39:44.368016Z",
     "shell.execute_reply": "2024-08-14T12:39:44.367420Z",
     "shell.execute_reply.started": "2024-08-14T12:39:44.299621Z"
    },
    "tags": []
   },
   "outputs": [
    {
     "data": {
      "application/vnd.jupyter.widget-view+json": {
       "model_id": "d16c241680934c069182753844937600",
       "version_major": 2,
       "version_minor": 0
      },
      "text/plain": [
       "VBox()"
      ]
     },
     "metadata": {},
     "output_type": "display_data"
    },
    {
     "data": {
      "application/vnd.jupyter.widget-view+json": {
       "model_id": "",
       "version_major": 2,
       "version_minor": 0
      },
      "text/plain": [
       "FloatProgress(value=0.0, bar_style='info', description='Progress:', layout=Layout(height='25px', width='50%'),…"
      ]
     },
     "metadata": {},
     "output_type": "display_data"
    }
   ],
   "source": [
    "# Elasticsearch configuration\n",
    "es_host = \"10.0.3.216\"\n",
    "es_port = 9200  # Ensure this is an integer\n",
    "es_scheme = \"http\"\n",
    "raw_es_index = \"raw_stream_data\"\n",
    "\n",
    "raw_mappings = {\n",
    "        \"properties\": {\n",
    "            \"timestamp\": {\n",
    "                \"type\": \"date\",\n",
    "                \"format\": \"strict_date_time\"\n",
    "            },\n",
    "            \"VIN\": {\n",
    "                \"type\": \"keyword\"\n",
    "            },\n",
    "            \"ParameterName\": {\n",
    "                \"type\": \"keyword\"  # Flattened out from InternalParameter\n",
    "            },\n",
    "            \"ParameterValue\": {\n",
    "                \"type\": \"integer\"  # Flattened out from InternalParameter\n",
    "            },\n",
    "            \"ParameterUnit\": {\n",
    "                \"type\": \"keyword\"  # Flattened out from InternalParameter\n",
    "            }\n",
    "        }\n",
    "    }\n",
    "\n",
    "\n",
    "# Create Elasticsearch client\n",
    "es = Elasticsearch([{'host': es_host, 'port': es_port, 'scheme': es_scheme}])"
   ]
  },
  {
   "cell_type": "code",
   "execution_count": 3,
   "id": "547ca314-d3d8-4775-a35f-fefdcedb1511",
   "metadata": {
    "execution": {
     "iopub.execute_input": "2024-08-14T12:39:44.369689Z",
     "iopub.status.busy": "2024-08-14T12:39:44.369404Z",
     "iopub.status.idle": "2024-08-14T12:39:44.439613Z",
     "shell.execute_reply": "2024-08-14T12:39:44.438804Z",
     "shell.execute_reply.started": "2024-08-14T12:39:44.369665Z"
    },
    "tags": []
   },
   "outputs": [
    {
     "data": {
      "application/vnd.jupyter.widget-view+json": {
       "model_id": "8bd632bd450547af8eb9584aa205e8ef",
       "version_major": 2,
       "version_minor": 0
      },
      "text/plain": [
       "VBox()"
      ]
     },
     "metadata": {},
     "output_type": "display_data"
    },
    {
     "data": {
      "application/vnd.jupyter.widget-view+json": {
       "model_id": "",
       "version_major": 2,
       "version_minor": 0
      },
      "text/plain": [
       "FloatProgress(value=0.0, bar_style='info', description='Progress:', layout=Layout(height='25px', width='50%'),…"
      ]
     },
     "metadata": {},
     "output_type": "display_data"
    }
   ],
   "source": [
    "# Kafka parameters\n",
    "kafka_bootstrap_servers = \"b-2.kafkacluster99.c5pq03.c3.kafka.eu-central-1.amazonaws.com:9092,b-1.kafkacluster99.c5pq03.c3.kafka.eu-central-1.amazonaws.com:9092\"\n",
    "kafka_topic = \"topic1\"\n",
    "\n",
    "# Elasticsearch configuration\n",
    "es_host = \"10.0.3.216\"\n",
    "es_port = 9200  # Ensure this is an integer\n",
    "es_scheme = \"http\"\n",
    "raw_es_index = \"raw_stream_data\"\n",
    "\n",
    "raw_mappings = {\n",
    "        \"properties\": {\n",
    "            \"timestamp\": {\n",
    "                \"type\": \"keyword\",\n",
    "            },\n",
    "            \"VIN\": {\n",
    "                \"type\": \"keyword\"\n",
    "            },\n",
    "            \"ParameterName\": {\n",
    "                \"type\": \"keyword\"  # Flattened out from InternalParameter\n",
    "            },\n",
    "            \"ParameterValue\": {\n",
    "                \"type\": \"integer\"  # Flattened out from InternalParameter\n",
    "            },\n",
    "            \"ParameterUnit\": {\n",
    "                \"type\": \"keyword\"  # Flattened out from InternalParameter\n",
    "            }\n",
    "        }\n",
    "    }\n",
    "\n",
    "\n",
    "# Create Elasticsearch client\n",
    "es = Elasticsearch([{'host': es_host, 'port': es_port, 'scheme': es_scheme}])"
   ]
  },
  {
   "cell_type": "code",
   "execution_count": 4,
   "id": "7f27baf7-43ff-406d-9d22-f380f2981103",
   "metadata": {
    "execution": {
     "iopub.execute_input": "2024-08-14T12:39:44.443143Z",
     "iopub.status.busy": "2024-08-14T12:39:44.442944Z",
     "iopub.status.idle": "2024-08-14T12:39:44.505737Z",
     "shell.execute_reply": "2024-08-14T12:39:44.505115Z",
     "shell.execute_reply.started": "2024-08-14T12:39:44.443119Z"
    },
    "tags": []
   },
   "outputs": [
    {
     "data": {
      "application/vnd.jupyter.widget-view+json": {
       "model_id": "59d6039b5b074f6589c13b2f18fac1ce",
       "version_major": 2,
       "version_minor": 0
      },
      "text/plain": [
       "VBox()"
      ]
     },
     "metadata": {},
     "output_type": "display_data"
    },
    {
     "data": {
      "application/vnd.jupyter.widget-view+json": {
       "model_id": "",
       "version_major": 2,
       "version_minor": 0
      },
      "text/plain": [
       "FloatProgress(value=0.0, bar_style='info', description='Progress:', layout=Layout(height='25px', width='50%'),…"
      ]
     },
     "metadata": {},
     "output_type": "display_data"
    }
   ],
   "source": [
    "# Define the schema\n",
    "schema = StructType([\n",
    "    StructField(\"timestamp\", StringType(), True),\n",
    "    StructField(\"VIN\", StringType(), True),\n",
    "    StructField(\"InternalParameter\", StructType([\n",
    "        StructField(\"ParameterName\", StringType(), True),\n",
    "        StructField(\"ParameterValue\", IntegerType(), True),\n",
    "        StructField(\"ParameterUnit\", StringType(), True)\n",
    "    ]), True)\n",
    "])\n",
    "\n",
    "# Kafka parameters\n",
    "kafka_bootstrap_servers = \"b-2.kafkacluster99.c5pq03.c3.kafka.eu-central-1.amazonaws.com:9092,b-1.kafkacluster99.c5pq03.c3.kafka.eu-central-1.amazonaws.com:9092\"\n",
    "kafka_topic = \"topic1\""
   ]
  },
  {
   "cell_type": "code",
   "execution_count": 5,
   "id": "715b4b8c-3b40-44fa-86e5-ff7b5b56e92e",
   "metadata": {
    "execution": {
     "iopub.execute_input": "2024-08-14T12:39:44.506874Z",
     "iopub.status.busy": "2024-08-14T12:39:44.506700Z",
     "iopub.status.idle": "2024-08-14T12:39:44.560155Z",
     "shell.execute_reply": "2024-08-14T12:39:44.559528Z",
     "shell.execute_reply.started": "2024-08-14T12:39:44.506852Z"
    },
    "tags": []
   },
   "outputs": [
    {
     "data": {
      "application/vnd.jupyter.widget-view+json": {
       "model_id": "a516197ca0084a77936da687549a331f",
       "version_major": 2,
       "version_minor": 0
      },
      "text/plain": [
       "VBox()"
      ]
     },
     "metadata": {},
     "output_type": "display_data"
    },
    {
     "data": {
      "application/vnd.jupyter.widget-view+json": {
       "model_id": "",
       "version_major": 2,
       "version_minor": 0
      },
      "text/plain": [
       "FloatProgress(value=0.0, bar_style='info', description='Progress:', layout=Layout(height='25px', width='50%'),…"
      ]
     },
     "metadata": {},
     "output_type": "display_data"
    },
    {
     "name": "stdout",
     "output_type": "stream",
     "text": [
      "Index 'raw_stream_data' already exists."
     ]
    }
   ],
   "source": [
    "def create_index_if_not_exists(es_client, index_name, mappings):\n",
    "    try:\n",
    "        if not es_client.indices.exists(index=index_name):\n",
    "            print(f\"Index '{index_name}' does not exist. Creating index...\")\n",
    "            es_client.indices.create(\n",
    "                index=index_name,\n",
    "                body={\n",
    "                    \"mappings\": mappings  # Use the provided mappings parameter\n",
    "                }\n",
    "            )\n",
    "            print(f\"Index '{index_name}' created successfully.\")\n",
    "        else:\n",
    "            print(f\"Index '{index_name}' already exists.\")\n",
    "    except exceptions.RequestError as e:\n",
    "        print(f\"RequestError: {e.info}\")\n",
    "    except exceptions.ConnectionError as e:\n",
    "        print(f\"ConnectionError: {e}\")\n",
    "    except Exception as e:\n",
    "        print(f\"Error creating index: {e}\")\n",
    "        \n",
    "# Create the index in Elasticsearch\n",
    "create_index_if_not_exists(es, raw_es_index, raw_mappings)"
   ]
  },
  {
   "cell_type": "code",
   "execution_count": null,
   "id": "1f37eaa5-92a2-4a34-8a02-719f0fb3c0c2",
   "metadata": {
    "execution": {
     "iopub.execute_input": "2024-08-14T12:41:08.277451Z",
     "iopub.status.busy": "2024-08-14T12:41:08.277231Z"
    },
    "tags": []
   },
   "outputs": [
    {
     "data": {
      "application/vnd.jupyter.widget-view+json": {
       "model_id": "acf95adf75954b11883cb97dc67f42b5",
       "version_major": 2,
       "version_minor": 0
      },
      "text/plain": [
       "VBox()"
      ]
     },
     "metadata": {},
     "output_type": "display_data"
    },
    {
     "data": {
      "application/vnd.jupyter.widget-view+json": {
       "model_id": "09d14c49dbcb4409876c61f8d32eb5c2",
       "version_major": 2,
       "version_minor": 0
      },
      "text/plain": [
       "FloatProgress(value=0.0, bar_style='info', description='Progress:', layout=Layout(height='25px', width='50%'),…"
      ]
     },
     "metadata": {},
     "output_type": "display_data"
    }
   ],
   "source": [
    "# Create SparkSession\n",
    "spark = SparkSession.builder \\\n",
    "    .appName(\"KafkaToElasticsearch\") \\\n",
    "    .config(\"spark.sql.streaming.checkpointLocation\", \"s3://aws-emr-studio-381492251123-eu-central-1/stream_checkpoint/checkpoint/\") \\\n",
    "    .getOrCreate()\n",
    "\n",
    "# Create a DataFrame representing the stream of input lines from Kafka\n",
    "df = spark.readStream \\\n",
    "    .format(\"kafka\") \\\n",
    "    .option(\"kafka.bootstrap.servers\", kafka_bootstrap_servers) \\\n",
    "    .option(\"subscribe\", kafka_topic) \\\n",
    "    .option(\"startingOffsets\", \"earliest\") \\\n",
    "    .load()\n",
    "\n",
    "# Convert the value column from Kafka to a string\n",
    "df = df.selectExpr(\"CAST(value AS STRING)\")\n",
    "\n",
    "# Parse the JSON data using the schema\n",
    "df = df.select(from_json(col(\"value\"), schema).alias(\"data\"))\n",
    "\n",
    "# Keep the InternalParameter as a nested object\n",
    "df = df.select(\n",
    "    col(\"data.timestamp\"),\n",
    "    col(\"data.VIN\"),\n",
    "    col(\"data.InternalParameter.ParameterName\"),\n",
    "    col(\"data.InternalParameter.ParameterValue\"),\n",
    "    col(\"data.InternalParameter.ParameterUnit\")  \n",
    ")\n",
    "\n",
    "# Elasticsearch configuration for Spark\n",
    "es_write_conf = {\n",
    "    \"es.nodes\": es_host,\n",
    "    \"es.port\": str(es_port),  # Convert port to string for Spark configuration\n",
    "    \"es.index.auto.create\": \"true\"  # Ensure that Spark does not attempt to auto-create the index\n",
    "}\n",
    "\n",
    "# Write data to Elasticsearch\n",
    "query = df.writeStream \\\n",
    "    .format(\"org.elasticsearch.spark.sql\") \\\n",
    "    .options(**es_write_conf) \\\n",
    "    .option(\"es.resource\", raw_es_index) \\\n",
    "    .outputMode(\"append\") \\\n",
    "    .start()\n",
    "\n",
    "# Await termination of the stream\n",
    "query.awaitTermination()\n"
   ]
  },
  {
   "cell_type": "code",
   "execution_count": null,
   "id": "97645fc8-2785-4e71-bfc3-af4568e8ee29",
   "metadata": {},
   "outputs": [],
   "source": []
  },
  {
   "cell_type": "code",
   "execution_count": null,
   "id": "7814efd6-c54f-412c-9687-e39ffdb9a790",
   "metadata": {},
   "outputs": [],
   "source": []
  },
  {
   "cell_type": "code",
   "execution_count": null,
   "id": "6d04bbf6-59fd-4875-ae20-daed4b43beb4",
   "metadata": {},
   "outputs": [],
   "source": []
  }
 ],
 "metadata": {
  "kernelspec": {
   "display_name": "PySpark",
   "language": "python",
   "name": "pysparkkernel"
  },
  "language_info": {
   "codemirror_mode": {
    "name": "python",
    "version": 3
   },
   "file_extension": ".py",
   "mimetype": "text/x-python",
   "name": "pyspark",
   "pygments_lexer": "python3"
  }
 },
 "nbformat": 4,
 "nbformat_minor": 5
}
