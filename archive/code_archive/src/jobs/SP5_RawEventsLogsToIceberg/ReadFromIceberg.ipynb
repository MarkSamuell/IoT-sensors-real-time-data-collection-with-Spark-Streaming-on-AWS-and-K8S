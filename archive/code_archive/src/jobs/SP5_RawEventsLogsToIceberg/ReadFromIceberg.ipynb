{
 "cells": [
  {
   "cell_type": "code",
   "execution_count": 1,
   "id": "f055d74f-5ef2-4cac-8bb3-b42e7700fb20",
   "metadata": {
    "execution": {
     "iopub.execute_input": "2024-09-07T19:24:51.641072Z",
     "iopub.status.busy": "2024-09-07T19:24:51.640744Z",
     "iopub.status.idle": "2024-09-07T19:25:28.317600Z",
     "shell.execute_reply": "2024-09-07T19:25:28.316665Z",
     "shell.execute_reply.started": "2024-09-07T19:24:51.641041Z"
    },
    "tags": []
   },
   "outputs": [
    {
     "data": {
      "application/vnd.jupyter.widget-view+json": {
       "model_id": "8cf659929b40406a80d868896dce2ce8",
       "version_major": 2,
       "version_minor": 0
      },
      "text/plain": [
       "VBox()"
      ]
     },
     "metadata": {},
     "output_type": "display_data"
    },
    {
     "name": "stdout",
     "output_type": "stream",
     "text": [
      "Starting Spark application\n"
     ]
    },
    {
     "data": {
      "text/html": [
       "<table>\n<tbody><tr><th>ID</th><th>YARN Application ID</th><th>Kind</th><th>State</th><th>Spark UI</th><th>Driver log</th><th>User</th><th>Current session?</th></tr><tr><td>5</td><td>application_1725733052108_0006</td><td>pyspark</td><td>idle</td><td><a target=\"_blank\" href=\"http://ip-10-0-3-163.eu-central-1.compute.internal:20888/proxy/application_1725733052108_0006/\" class=\"emr-proxy-link j-18PD6YEEWP5XL application_1725733052108_0006\" emr-resource=\"j-18PD6YEEWP5XL\n\" application-id=\"application_1725733052108_0006\">Link</a></td><td><a target=\"_blank\" href=\"http://ip-10-0-3-54.eu-central-1.compute.internal:8042/node/containerlogs/container_1725733052108_0006_01_000001/livy\">Link</a></td><td>None</td><td>✔</td></tr></tbody></table>"
      ],
      "text/plain": [
       "<IPython.core.display.HTML object>"
      ]
     },
     "metadata": {},
     "output_type": "display_data"
    },
    {
     "data": {
      "application/vnd.jupyter.widget-view+json": {
       "model_id": "",
       "version_major": 2,
       "version_minor": 0
      },
      "text/plain": [
       "FloatProgress(value=0.0, bar_style='info', description='Progress:', layout=Layout(height='25px', width='50%'),…"
      ]
     },
     "metadata": {},
     "output_type": "display_data"
    },
    {
     "name": "stdout",
     "output_type": "stream",
     "text": [
      "SparkSession available as 'spark'.\n"
     ]
    },
    {
     "data": {
      "application/vnd.jupyter.widget-view+json": {
       "model_id": "",
       "version_major": 2,
       "version_minor": 0
      },
      "text/plain": [
       "FloatProgress(value=0.0, bar_style='info', description='Progress:', layout=Layout(height='25px', width='50%'),…"
      ]
     },
     "metadata": {},
     "output_type": "display_data"
    }
   ],
   "source": [
    "from pyspark.sql import SparkSession\n",
    "from pyspark.sql.functions import col, count\n",
    "\n",
    "# Create SparkSession\n",
    "spark = SparkSession.builder \\\n",
    "    .appName(\"KafkaToIceberg\") \\\n",
    "    .config(\"spark.sql.extensions\", \"org.apache.iceberg.spark.extensions.IcebergSparkSessionExtensions\") \\\n",
    "    .config(\"spark.sql.catalog.demo\", \"org.apache.iceberg.spark.SparkCatalog\") \\\n",
    "    .config(\"spark.sql.catalog.demo.catalog-impl\", \"org.apache.iceberg.aws.glue.GlueCatalog\") \\\n",
    "    .config(\"spark.sql.catalog.demo.warehouse\", \"s3://aws-emr-studio-381492251123-eu-central-1/ICEBERG/\") \\\n",
    "    .config(\"spark.sql.catalog.demo.io-impl\", \"org.apache.iceberg.aws.s3.S3FileIO\") \\\n",
    "    .config(\"spark.sql.streaming.checkpointLocation\", \"s3://aws-emr-studio-381492251123-eu-central-1/stream_checkpoint/checkpoint/\") \\\n",
    "    .getOrCreate()"
   ]
  },
  {
   "cell_type": "code",
   "execution_count": 2,
   "id": "15b5264e-da50-4a42-ab2f-3b84b299fca8",
   "metadata": {
    "execution": {
     "iopub.execute_input": "2024-09-07T19:25:28.327352Z",
     "iopub.status.busy": "2024-09-07T19:25:28.327118Z",
     "iopub.status.idle": "2024-09-07T19:25:41.667001Z",
     "shell.execute_reply": "2024-09-07T19:25:41.666381Z",
     "shell.execute_reply.started": "2024-09-07T19:25:28.327321Z"
    },
    "tags": []
   },
   "outputs": [
    {
     "data": {
      "application/vnd.jupyter.widget-view+json": {
       "model_id": "24d189c6bbc142f98b72e4aedbad316e",
       "version_major": 2,
       "version_minor": 0
      },
      "text/plain": [
       "VBox()"
      ]
     },
     "metadata": {},
     "output_type": "display_data"
    },
    {
     "data": {
      "application/vnd.jupyter.widget-view+json": {
       "model_id": "",
       "version_major": 2,
       "version_minor": 0
      },
      "text/plain": [
       "FloatProgress(value=0.0, bar_style='info', description='Progress:', layout=Layout(height='25px', width='50%'),…"
      ]
     },
     "metadata": {},
     "output_type": "display_data"
    },
    {
     "name": "stdout",
     "output_type": "stream",
     "text": [
      "+--------------------+-----------------+------------+---------+------------------+-------------+\n",
      "|                  id|        VinNumber|    DataName|DataValue|          DataType|    TimeStamp|\n",
      "+--------------------+-----------------+------------+---------+------------------+-------------+\n",
      "|3bdd5cd849c742704...|FCJBK973DHT960860|integer Data|      265|Unsigned Short Int|1725729914548|\n",
      "|fc2ed7ed64ed37c7e...|DLDMEC1HJTJ357517|integer Data|      471|Unsigned Short Int|1725729939596|\n",
      "|f2a8b6b79055214e5...|THM35QS7GNW787602|integer Data|      383|Unsigned Short Int|1725729909540|\n",
      "|401ade4e1136fdb1b...|LKNZM5U782A364319|integer Data|      177|Unsigned Short Int|1725729934586|\n",
      "|be10807a482b834cc...|3BV3J0SX765828596|integer Data|      829|Unsigned Short Int|1725729924566|\n",
      "+--------------------+-----------------+------------+---------+------------------+-------------+\n",
      "only showing top 5 rows"
     ]
    }
   ],
   "source": [
    "# Read data from the Iceberg table\n",
    "df = spark.table(\"demo.uraues_db.raw_data_table\")\n",
    "df.show(5)"
   ]
  },
  {
   "cell_type": "code",
   "execution_count": null,
   "id": "7fd77a9f-4da8-4dd8-9f12-ef535216a672",
   "metadata": {},
   "outputs": [],
   "source": []
  }
 ],
 "metadata": {
  "kernelspec": {
   "display_name": "PySpark",
   "language": "python",
   "name": "pysparkkernel"
  },
  "language_info": {
   "codemirror_mode": {
    "name": "python",
    "version": 3
   },
   "file_extension": ".py",
   "mimetype": "text/x-python",
   "name": "pyspark",
   "pygments_lexer": "python3"
  }
 },
 "nbformat": 4,
 "nbformat_minor": 5
}
