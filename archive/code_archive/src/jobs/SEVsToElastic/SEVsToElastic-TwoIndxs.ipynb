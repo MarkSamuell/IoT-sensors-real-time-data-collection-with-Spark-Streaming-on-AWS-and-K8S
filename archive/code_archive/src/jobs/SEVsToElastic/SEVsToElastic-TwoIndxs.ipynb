{
 "cells": [
  {
   "cell_type": "code",
   "execution_count": 1,
   "metadata": {
    "execution": {
     "iopub.execute_input": "2024-08-27T11:40:20.922831Z",
     "iopub.status.busy": "2024-08-27T11:40:20.922468Z",
     "iopub.status.idle": "2024-08-27T11:40:57.779839Z",
     "shell.execute_reply": "2024-08-27T11:40:57.779106Z",
     "shell.execute_reply.started": "2024-08-27T11:40:20.922801Z"
    },
    "tags": []
   },
   "outputs": [
    {
     "data": {
      "application/vnd.jupyter.widget-view+json": {
       "model_id": "83ae22459b2e4421bf9fdb2afcde9f0f",
       "version_major": 2,
       "version_minor": 0
      },
      "text/plain": [
       "VBox()"
      ]
     },
     "metadata": {},
     "output_type": "display_data"
    },
    {
     "name": "stdout",
     "output_type": "stream",
     "text": [
      "Starting Spark application\n"
     ]
    },
    {
     "data": {
      "text/html": [
       "<table>\n<tbody><tr><th>ID</th><th>YARN Application ID</th><th>Kind</th><th>State</th><th>Spark UI</th><th>Driver log</th><th>User</th><th>Current session?</th></tr><tr><td>4</td><td>application_1724755407490_0005</td><td>pyspark</td><td>idle</td><td><a target=\"_blank\" href=\"http://ip-10-0-3-183.eu-central-1.compute.internal:20888/proxy/application_1724755407490_0005/\" class=\"emr-proxy-link j-2J8ENXJDK5LFB application_1724755407490_0005\" emr-resource=\"j-2J8ENXJDK5LFB\n\" application-id=\"application_1724755407490_0005\">Link</a></td><td><a target=\"_blank\" href=\"http://ip-10-0-3-19.eu-central-1.compute.internal:8042/node/containerlogs/container_1724755407490_0005_01_000001/livy\">Link</a></td><td>None</td><td>✔</td></tr></tbody></table>"
      ],
      "text/plain": [
       "<IPython.core.display.HTML object>"
      ]
     },
     "metadata": {},
     "output_type": "display_data"
    },
    {
     "data": {
      "application/vnd.jupyter.widget-view+json": {
       "model_id": "",
       "version_major": 2,
       "version_minor": 0
      },
      "text/plain": [
       "FloatProgress(value=0.0, bar_style='info', description='Progress:', layout=Layout(height='25px', width='50%'),…"
      ]
     },
     "metadata": {},
     "output_type": "display_data"
    },
    {
     "name": "stdout",
     "output_type": "stream",
     "text": [
      "SparkSession available as 'spark'.\n"
     ]
    },
    {
     "data": {
      "application/vnd.jupyter.widget-view+json": {
       "model_id": "",
       "version_major": 2,
       "version_minor": 0
      },
      "text/plain": [
       "FloatProgress(value=0.0, bar_style='info', description='Progress:', layout=Layout(height='25px', width='50%'),…"
      ]
     },
     "metadata": {},
     "output_type": "display_data"
    }
   ],
   "source": [
    "import time\n",
    "from pyspark.sql import SparkSession\n",
    "from pyspark.sql.functions import from_json, col, date_format, broadcast, to_json, struct, explode\n",
    "from pyspark.sql.types import StructType, StructField, StringType, IntegerType, TimestampType, MapType, ArrayType\n",
    "from elasticsearch import Elasticsearch, exceptions"
   ]
  },
  {
   "cell_type": "code",
   "execution_count": 2,
   "metadata": {
    "execution": {
     "iopub.execute_input": "2024-08-27T11:41:08.030557Z",
     "iopub.status.busy": "2024-08-27T11:41:08.030335Z",
     "iopub.status.idle": "2024-08-27T11:41:08.082610Z",
     "shell.execute_reply": "2024-08-27T11:41:08.081987Z",
     "shell.execute_reply.started": "2024-08-27T11:41:08.030534Z"
    },
    "tags": []
   },
   "outputs": [
    {
     "data": {
      "application/vnd.jupyter.widget-view+json": {
       "model_id": "8496600a67644063a5bb0aa3b9c00b2f",
       "version_major": 2,
       "version_minor": 0
      },
      "text/plain": [
       "VBox()"
      ]
     },
     "metadata": {},
     "output_type": "display_data"
    },
    {
     "data": {
      "application/vnd.jupyter.widget-view+json": {
       "model_id": "",
       "version_major": 2,
       "version_minor": 0
      },
      "text/plain": [
       "FloatProgress(value=0.0, bar_style='info', description='Progress:', layout=Layout(height='25px', width='50%'),…"
      ]
     },
     "metadata": {},
     "output_type": "display_data"
    }
   ],
   "source": [
    "# Elasticsearch configuration\n",
    "es_host = \"10.0.3.216\"\n",
    "es_port = 9200\n",
    "es_scheme = \"http\"\n",
    "es = Elasticsearch([{'host': es_host, 'port': es_port, 'scheme': es_scheme}])"
   ]
  },
  {
   "cell_type": "code",
   "execution_count": 3,
   "metadata": {
    "execution": {
     "iopub.execute_input": "2024-08-27T11:41:08.610978Z",
     "iopub.status.busy": "2024-08-27T11:41:08.610738Z",
     "iopub.status.idle": "2024-08-27T11:41:08.868525Z",
     "shell.execute_reply": "2024-08-27T11:41:08.867787Z",
     "shell.execute_reply.started": "2024-08-27T11:41:08.610954Z"
    },
    "tags": []
   },
   "outputs": [
    {
     "data": {
      "application/vnd.jupyter.widget-view+json": {
       "model_id": "60ef5d72c4584da68db72a58f17994fa",
       "version_major": 2,
       "version_minor": 0
      },
      "text/plain": [
       "VBox()"
      ]
     },
     "metadata": {},
     "output_type": "display_data"
    },
    {
     "data": {
      "application/vnd.jupyter.widget-view+json": {
       "model_id": "",
       "version_major": 2,
       "version_minor": 0
      },
      "text/plain": [
       "FloatProgress(value=0.0, bar_style='info', description='Progress:', layout=Layout(height='25px', width='50%'),…"
      ]
     },
     "metadata": {},
     "output_type": "display_data"
    },
    {
     "name": "stdout",
     "output_type": "stream",
     "text": [
      "ObjectApiResponse({'acknowledged': True})"
     ]
    }
   ],
   "source": [
    "if es.indices.exists(index=\"sevs_logs\"):\n",
    "    es.indices.delete(index=\"sevs_logs\")"
   ]
  },
  {
   "cell_type": "code",
   "execution_count": 4,
   "metadata": {
    "execution": {
     "iopub.execute_input": "2024-08-27T11:41:08.869819Z",
     "iopub.status.busy": "2024-08-27T11:41:08.869644Z",
     "iopub.status.idle": "2024-08-27T11:41:09.125074Z",
     "shell.execute_reply": "2024-08-27T11:41:09.124295Z",
     "shell.execute_reply.started": "2024-08-27T11:41:08.869798Z"
    },
    "tags": []
   },
   "outputs": [
    {
     "data": {
      "application/vnd.jupyter.widget-view+json": {
       "model_id": "6f0d834a3c3147b99fdc94f4091097d7",
       "version_major": 2,
       "version_minor": 0
      },
      "text/plain": [
       "VBox()"
      ]
     },
     "metadata": {},
     "output_type": "display_data"
    },
    {
     "data": {
      "application/vnd.jupyter.widget-view+json": {
       "model_id": "",
       "version_major": 2,
       "version_minor": 0
      },
      "text/plain": [
       "FloatProgress(value=0.0, bar_style='info', description='Progress:', layout=Layout(height='25px', width='50%'),…"
      ]
     },
     "metadata": {},
     "output_type": "display_data"
    }
   ],
   "source": [
    "if es.indices.exists(index=\"security_events\"):\n",
    "    es.indices.delete(index=\"security_events\")\n",
    "    \n",
    "if es.indices.exists(index=\"sevs_logs\"):\n",
    "    es.indices.delete(index=\"sevs_logs\")"
   ]
  },
  {
   "cell_type": "code",
   "execution_count": 5,
   "metadata": {
    "execution": {
     "iopub.execute_input": "2024-08-27T11:41:09.126516Z",
     "iopub.status.busy": "2024-08-27T11:41:09.126340Z",
     "iopub.status.idle": "2024-08-27T11:41:09.173372Z",
     "shell.execute_reply": "2024-08-27T11:41:09.172798Z",
     "shell.execute_reply.started": "2024-08-27T11:41:09.126495Z"
    },
    "tags": []
   },
   "outputs": [
    {
     "data": {
      "application/vnd.jupyter.widget-view+json": {
       "model_id": "d05e2c6597d24fbb99b338a28cf6caf1",
       "version_major": 2,
       "version_minor": 0
      },
      "text/plain": [
       "VBox()"
      ]
     },
     "metadata": {},
     "output_type": "display_data"
    },
    {
     "data": {
      "application/vnd.jupyter.widget-view+json": {
       "model_id": "",
       "version_major": 2,
       "version_minor": 0
      },
      "text/plain": [
       "FloatProgress(value=0.0, bar_style='info', description='Progress:', layout=Layout(height='25px', width='50%'),…"
      ]
     },
     "metadata": {},
     "output_type": "display_data"
    }
   ],
   "source": [
    "# Define mappings for both indices\n",
    "security_events_mappings = {\n",
    "    \"properties\": {\n",
    "        \"SEV_ID\": {\"type\": \"keyword\"},\n",
    "        \"VIN\": {\"type\": \"keyword\"},\n",
    "        \"Timestamp\": {\"type\": \"text\"},\n",
    "        \"Name\": {\"type\": \"text\"},\n",
    "        \"Type\": {\"type\": \"text\"},\n",
    "        \"Severity\": {\"type\": \"keyword\"},\n",
    "        \"NetworkType\": {\"type\": \"keyword\"},\n",
    "        \"NetworkID\": {\"type\": \"keyword\"},\n",
    "        \"SEV_Msg\": {\"type\": \"text\"},\n",
    "        \"Origin\": {\"type\": \"keyword\"}\n",
    "    }\n",
    "}\n",
    "\n",
    "# Update the sevs_logs_mappings\n",
    "sevs_logs_mappings = {\n",
    "    \"properties\": {\n",
    "        \"SEV_ID\": {\"type\": \"keyword\"},\n",
    "        \"timestamp\": {\"type\": \"date\"},\n",
    "        \"VIN\": {\"type\": \"keyword\"},\n",
    "        \"ParameterName\": {\"type\": \"keyword\"},\n",
    "        \"ParameterValue\": {\"type\": \"keyword\"},\n",
    "        \"ParameterUnit\": {\"type\": \"keyword\"}\n",
    "    }\n",
    "}"
   ]
  },
  {
   "cell_type": "code",
   "execution_count": 6,
   "metadata": {
    "execution": {
     "iopub.execute_input": "2024-08-27T11:41:09.174566Z",
     "iopub.status.busy": "2024-08-27T11:41:09.174392Z",
     "iopub.status.idle": "2024-08-27T11:41:09.934283Z",
     "shell.execute_reply": "2024-08-27T11:41:09.933453Z",
     "shell.execute_reply.started": "2024-08-27T11:41:09.174546Z"
    },
    "tags": []
   },
   "outputs": [
    {
     "data": {
      "application/vnd.jupyter.widget-view+json": {
       "model_id": "daae29daddb34602b68f103e67215cb1",
       "version_major": 2,
       "version_minor": 0
      },
      "text/plain": [
       "VBox()"
      ]
     },
     "metadata": {},
     "output_type": "display_data"
    },
    {
     "data": {
      "application/vnd.jupyter.widget-view+json": {
       "model_id": "",
       "version_major": 2,
       "version_minor": 0
      },
      "text/plain": [
       "FloatProgress(value=0.0, bar_style='info', description='Progress:', layout=Layout(height='25px', width='50%'),…"
      ]
     },
     "metadata": {},
     "output_type": "display_data"
    },
    {
     "name": "stdout",
     "output_type": "stream",
     "text": [
      "Index 'security_events' does not exist. Creating index...\n",
      "Index 'security_events' created successfully.\n",
      "Index 'sevs_logs' does not exist. Creating index...\n",
      "Index 'sevs_logs' created successfully."
     ]
    }
   ],
   "source": [
    "def create_index_if_not_exists(es_client, index_name, mappings):\n",
    "    try:\n",
    "        if not es_client.indices.exists(index=index_name):\n",
    "            print(f\"Index '{index_name}' does not exist. Creating index...\")\n",
    "            es_client.indices.create(\n",
    "                index=index_name,\n",
    "                body={\"mappings\": mappings}\n",
    "            )\n",
    "            print(f\"Index '{index_name}' created successfully.\")\n",
    "        else:\n",
    "            print(f\"Index '{index_name}' already exists.\")\n",
    "    except exceptions.RequestError as e:\n",
    "        print(f\"RequestError: {e.info}\")\n",
    "    except exceptions.ConnectionError as e:\n",
    "        print(f\"ConnectionError: {e}\")\n",
    "    except Exception as e:\n",
    "        print(f\"Error creating index: {e}\")\n",
    "\n",
    "# Create both indices in Elasticsearch\n",
    "create_index_if_not_exists(es, \"security_events\", security_events_mappings)\n",
    "create_index_if_not_exists(es, \"sevs_logs\", sevs_logs_mappings)"
   ]
  },
  {
   "cell_type": "code",
   "execution_count": 9,
   "metadata": {
    "execution": {
     "iopub.execute_input": "2024-08-27T11:46:34.050517Z",
     "iopub.status.busy": "2024-08-27T11:46:34.050282Z",
     "iopub.status.idle": "2024-08-27T11:47:17.959390Z",
     "shell.execute_reply": "2024-08-27T11:47:17.958329Z",
     "shell.execute_reply.started": "2024-08-27T11:46:34.050494Z"
    },
    "tags": []
   },
   "outputs": [
    {
     "data": {
      "application/vnd.jupyter.widget-view+json": {
       "model_id": "f99e920eb33649f1929d9a18643fca47",
       "version_major": 2,
       "version_minor": 0
      },
      "text/plain": [
       "VBox()"
      ]
     },
     "metadata": {},
     "output_type": "display_data"
    },
    {
     "data": {
      "application/vnd.jupyter.widget-view+json": {
       "model_id": "cd4f4b8dd07548feb7b56a5fbebe8798",
       "version_major": 2,
       "version_minor": 0
      },
      "text/plain": [
       "FloatProgress(value=0.0, bar_style='info', description='Progress:', layout=Layout(height='25px', width='50%'),…"
      ]
     },
     "metadata": {},
     "output_type": "display_data"
    },
    {
     "name": "stderr",
     "output_type": "stream",
     "text": [
      "\n",
      "KeyboardInterrupt\n",
      "\n"
     ]
    }
   ],
   "source": [
    "# Create SparkSession\n",
    "spark = SparkSession.builder \\\n",
    "    .appName(\"SEVsToElasticsearch\") \\\n",
    "    .config(\"spark.sql.streaming.checkpointLocation\", \"s3://aws-emr-studio-381492251123-eu-central-1/stream_checkpoint/checkpoint/\") \\\n",
    "    .getOrCreate()\n",
    "\n",
    "# Define the schema\n",
    "ioc_parameters_schema = StructType([\n",
    "    StructField(\"timestamp\", TimestampType(), True),\n",
    "    StructField(\"VIN\", StringType(), True),\n",
    "    StructField(\"InternalParameter\", StructType([\n",
    "        StructField(\"ParameterName\", StringType(), True),\n",
    "        StructField(\"ParameterValue\", StringType(), True),\n",
    "        StructField(\"ParameterUnit\", StringType(), True)\n",
    "    ]), True)\n",
    "])\n",
    "\n",
    "schema = StructType([\n",
    "    StructField(\"SEV_ID\", StringType(), True),\n",
    "    StructField(\"VIN\", StringType(), True),\n",
    "    StructField(\"Timestamp\", TimestampType(), True),\n",
    "    StructField(\"Name\", StringType(), True),\n",
    "    StructField(\"Type\", StringType(), True),\n",
    "    StructField(\"Severity\", StringType(), True),\n",
    "    StructField(\"NetworkType\", StringType(), True),\n",
    "    StructField(\"NetworkID\", StringType(), True),\n",
    "    StructField(\"SEV_Msg\", StringType(), True),\n",
    "    StructField(\"Origin\", StringType(), True),\n",
    "    StructField(\"IoC\", StructType([\n",
    "        StructField(\"Parameters\", ArrayType(ioc_parameters_schema), True)\n",
    "    ]), True)\n",
    "])\n",
    "\n",
    "# Kafka parameters\n",
    "kafka_bootstrap_servers = \"b-2.kafkasevs3.c8ext9.c3.kafka.eu-central-1.amazonaws.com:9092,b-1.kafkasevs3.c8ext9.c3.kafka.eu-central-1.amazonaws.com:9092\"\n",
    "kafka_topic = \"topic1\"\n",
    "\n",
    "# Create a DataFrame representing the stream of input lines from Kafka\n",
    "kafka_df = spark.readStream \\\n",
    "    .format(\"kafka\") \\\n",
    "    .option(\"kafka.bootstrap.servers\", kafka_bootstrap_servers) \\\n",
    "    .option(\"subscribe\", kafka_topic) \\\n",
    "    .option(\"startingOffsets\", \"earliest\") \\\n",
    "    .load()\n",
    "\n",
    "# Convert the value column from Kafka to a string\n",
    "kafka_df = kafka_df.selectExpr(\"CAST(value AS STRING)\")\n",
    "\n",
    "# Parse the JSON data using the schema\n",
    "kafka_df = kafka_df.select(from_json(col(\"value\"), schema).alias(\"data\"))\n",
    "\n",
    "# Flatten the DataFrame for security events\n",
    "security_events_df = kafka_df.select(\n",
    "    col(\"data.SEV_ID\"),\n",
    "    col(\"data.VIN\"),\n",
    "    col(\"data.Timestamp\"),\n",
    "    col(\"data.Name\"),\n",
    "    col(\"data.Type\"),\n",
    "    col(\"data.Severity\"),\n",
    "    col(\"data.NetworkType\"),\n",
    "    col(\"data.NetworkID\"),\n",
    "    col(\"data.SEV_Msg\"),\n",
    "    col(\"data.Origin\")\n",
    ")\n",
    "\n",
    "# Process IoC logs\n",
    "sevs_logs_df = kafka_df.select(\n",
    "    col(\"data.SEV_ID\"),\n",
    "    explode(col(\"data.IoC.Parameters\")).alias(\"Parameter\")\n",
    ")\n",
    "\n",
    "# Flatten the Parameter structure while keeping the SEV_ID\n",
    "sevs_logs_df = sevs_logs_df.select(\n",
    "    col(\"SEV_ID\"),\n",
    "    col(\"Parameter.timestamp\"),\n",
    "    col(\"Parameter.VIN\"),\n",
    "    col(\"Parameter.InternalParameter.ParameterName\"),\n",
    "    col(\"Parameter.InternalParameter.ParameterValue\"),\n",
    "    col(\"Parameter.InternalParameter.ParameterUnit\")\n",
    ")\n",
    "\n",
    "# Elasticsearch configuration for Spark\n",
    "es_write_conf = {\n",
    "    \"es.nodes\": es_host,\n",
    "    \"es.port\": str(es_port),\n",
    "    \"es.index.auto.create\": \"false\"\n",
    "}\n",
    "\n",
    "# Write security events to Elasticsearch\n",
    "security_events_query = security_events_df.writeStream \\\n",
    "    .format(\"org.elasticsearch.spark.sql\") \\\n",
    "    .options(**es_write_conf) \\\n",
    "    .option(\"es.resource\", \"security_events\") \\\n",
    "    .option(\"es.mapping.id\", \"SEV_ID\") \\\n",
    "    .outputMode(\"append\") \\\n",
    "    .start()\n",
    "\n",
    "# Write IoC logs to Elasticsearch\n",
    "sevs_logs_query = sevs_logs_df.writeStream \\\n",
    "    .format(\"org.elasticsearch.spark.sql\") \\\n",
    "    .options(**es_write_conf) \\\n",
    "    .option(\"es.resource\", \"sevs_logs\") \\\n",
    "    .outputMode(\"append\") \\\n",
    "    .start()\n",
    "\n",
    "# Await termination of both streams\n",
    "security_events_query.awaitTermination()\n",
    "sevs_logs_query.awaitTermination()"
   ]
  },
  {
   "cell_type": "code",
   "execution_count": 11,
   "metadata": {
    "execution": {
     "iopub.execute_input": "2024-08-27T11:07:49.750836Z",
     "iopub.status.busy": "2024-08-27T11:07:49.750564Z",
     "iopub.status.idle": "2024-08-27T11:08:05.050475Z",
     "shell.execute_reply": "2024-08-27T11:08:05.049556Z",
     "shell.execute_reply.started": "2024-08-27T11:07:49.750809Z"
    }
   },
   "outputs": [
    {
     "data": {
      "application/vnd.jupyter.widget-view+json": {
       "model_id": "07976044a1fd472a88f0c5a6bff6b5db",
       "version_major": 2,
       "version_minor": 0
      },
      "text/plain": [
       "VBox()"
      ]
     },
     "metadata": {},
     "output_type": "display_data"
    },
    {
     "name": "stderr",
     "output_type": "stream",
     "text": [
      "An error was encountered:\n",
      "Session 0 did not reach idle status in time. Current status is busy.\n"
     ]
    }
   ],
   "source": []
  },
  {
   "cell_type": "code",
   "execution_count": null,
   "metadata": {},
   "outputs": [],
   "source": []
  }
 ],
 "metadata": {
  "kernelspec": {
   "display_name": "PySpark",
   "language": "python",
   "name": "pysparkkernel"
  },
  "language_info": {
   "codemirror_mode": {
    "name": "python",
    "version": 3
   },
   "file_extension": ".py",
   "mimetype": "text/x-python",
   "name": "pyspark",
   "pygments_lexer": "python3"
  }
 },
 "nbformat": 4,
 "nbformat_minor": 4
}
